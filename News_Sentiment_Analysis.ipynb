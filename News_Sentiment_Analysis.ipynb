{
  "nbformat": 4,
  "nbformat_minor": 0,
  "metadata": {
    "colab": {
      "name": "News Sentiment_Analysis.ipynb",
      "provenance": [],
      "collapsed_sections": []
    },
    "kernelspec": {
      "name": "python3",
      "display_name": "Python 3"
    },
    "accelerator": "GPU"
  },
  "cells": [
    {
      "cell_type": "code",
      "metadata": {
        "id": "_OeE3rb1_shr",
        "colab_type": "code",
        "colab": {}
      },
      "source": [
        "from sklearn.linear_model import LinearRegression\n",
        "from sklearn.linear_model import Ridge,Lasso,LogisticRegression\n",
        "from sklearn import preprocessing\n",
        "from sklearn.preprocessing import PolynomialFeatures\n",
        "from sklearn.pipeline import make_pipeline\n",
        "from sklearn.model_selection import train_test_split\n",
        "from sklearn.metrics import mean_squared_error\n",
        "from sklearn.model_selection import train_test_split\n",
        "import matplotlib.pyplot as plt\n",
        "%matplotlib inline\n",
        "\n",
        "from sklearn.feature_selection import SelectPercentile, f_classif\n",
        "import pandas as pd\n",
        "import math\n",
        "import seaborn as sns\n",
        "from sklearn.feature_extraction.text import CountVectorizer\n",
        "from sklearn.ensemble import RandomForestClassifier\n",
        "from sklearn.metrics import classification_report,confusion_matrix,accuracy_score\n",
        "from nltk.corpus import stopwords \n",
        "from nltk.tokenize import word_tokenize \n",
        "from sklearn.naive_bayes import GaussianNB,MultinomialNB\n",
        "from sklearn.tree import DecisionTreeClassifier\n",
        "from nltk.stem import PorterStemmer"
      ],
      "execution_count": 0,
      "outputs": []
    },
    {
      "cell_type": "markdown",
      "metadata": {
        "id": "M0hEv8ZYuHi9",
        "colab_type": "text"
      },
      "source": [
        "Load the data\n"
      ]
    },
    {
      "cell_type": "code",
      "metadata": {
        "id": "OFCrps0Pifsa",
        "colab_type": "code",
        "outputId": "ebf62720-f6db-4689-ccb1-62c7d5da4522",
        "colab": {
          "base_uri": "https://localhost:8080/",
          "height": 562
        }
      },
      "source": [
        "Rdt = pd.read_csv(r'C:\\Users\\Rae-Djamaal\\Anaconda3\\Lib\\site-packages\\Pensionfunds_SQL_Practice\\Reddit_Stk\\News1.csv',index_col=0,parse_dates=True)\n",
        "Rdt.head(3)"
      ],
      "execution_count": 336,
      "outputs": [
        {
          "output_type": "execute_result",
          "data": {
            "text/plain": [
              "            Label                                               Top1  \\\n",
              "Date                                                                   \n",
              "2000-01-03      0  A 'hindrance to operations': extracts from the...   \n",
              "2000-01-04      0                                          Scorecard   \n",
              "2000-01-05      0                  Coventry caught on counter by Flo   \n",
              "\n",
              "                                          Top2  \\\n",
              "Date                                             \n",
              "2000-01-03                           Scorecard   \n",
              "2000-01-04                 The best lake scene   \n",
              "2000-01-05  United's rivals on the road to Rio   \n",
              "\n",
              "                                                     Top3  \\\n",
              "Date                                                        \n",
              "2000-01-03                Hughes' instant hit buoys Blues   \n",
              "2000-01-04                  Leader: German sleaze inquiry   \n",
              "2000-01-05  Thatcher issues defence before trial by video   \n",
              "\n",
              "                                                     Top4  \\\n",
              "Date                                                        \n",
              "2000-01-03       Jack gets his skates on at ice-cold Alex   \n",
              "2000-01-04                                  Cheerio, boyo   \n",
              "2000-01-05  Police help Smith lay down the law at Everton   \n",
              "\n",
              "                                                   Top5  \\\n",
              "Date                                                      \n",
              "2000-01-03       Chaos as Maracana builds up for United   \n",
              "2000-01-04                     The main recommendations   \n",
              "2000-01-05  Tale of Trautmann bears two more retellings   \n",
              "\n",
              "                                                         Top6  \\\n",
              "Date                                                            \n",
              "2000-01-03  Depleted Leicester prevail as Elliott spoils E...   \n",
              "2000-01-04                             Has Cubie killed fees?   \n",
              "2000-01-05                                England on the rack   \n",
              "\n",
              "                                                       Top7  \\\n",
              "Date                                                          \n",
              "2000-01-03                 Hungry Spurs sense rich pickings   \n",
              "2000-01-04                           Has Cubie killed fees?   \n",
              "2000-01-05  Pakistan retaliate with call for video of Walsh   \n",
              "\n",
              "                                            Top8  \\\n",
              "Date                                               \n",
              "2000-01-03     Gunners so wide of an easy target   \n",
              "2000-01-04                Has Cubie killed fees?   \n",
              "2000-01-05  Cullinan continues his Cape monopoly   \n",
              "\n",
              "                                                         Top9  ...  \\\n",
              "Date                                                           ...   \n",
              "2000-01-03      Derby raise a glass to Strupar's debut double  ...   \n",
              "2000-01-04  Hopkins 'furious' at Foster's lack of Hannibal...  ...   \n",
              "2000-01-05             McGrath puts India out of their misery  ...   \n",
              "\n",
              "                                               Top16  \\\n",
              "Date                                                   \n",
              "2000-01-03  Flintoff injury piles on woe for England   \n",
              "2000-01-04                      On the critical list   \n",
              "2000-01-05               South Melbourne (Australia)   \n",
              "\n",
              "                                                        Top17  \\\n",
              "Date                                                            \n",
              "2000-01-03  Hunters threaten Jospin with new battle of the...   \n",
              "2000-01-04                          The timing of their lives   \n",
              "2000-01-05                                    Necaxa (Mexico)   \n",
              "\n",
              "                                          Top18  \\\n",
              "Date                                              \n",
              "2000-01-03  Kohl's successor drawn into scandal   \n",
              "2000-01-04                          Dear doctor   \n",
              "2000-01-05                  Real Madrid (Spain)   \n",
              "\n",
              "                                                        Top19  \\\n",
              "Date                                                            \n",
              "2000-01-03               The difference between men and women   \n",
              "2000-01-04  Irish court halts IRA man's extradition to Nor...   \n",
              "2000-01-05                          Raja Casablanca (Morocco)   \n",
              "\n",
              "                                                        Top20  \\\n",
              "Date                                                            \n",
              "2000-01-03                Sara Denver, nurse turned solicitor   \n",
              "2000-01-04  Burundi peace initiative fades after rebels re...   \n",
              "2000-01-05                               Corinthians (Brazil)   \n",
              "\n",
              "                                                     Top21  \\\n",
              "Date                                                         \n",
              "2000-01-03  Diana's landmine crusade put Tories in a panic   \n",
              "2000-01-04            PE points the way forward to the ECB   \n",
              "2000-01-05                              Tony's pet project   \n",
              "\n",
              "                                                        Top22  \\\n",
              "Date                                                            \n",
              "2000-01-03  Yeltsin's resignation caught opposition flat-f...   \n",
              "2000-01-04  Campaigners keep up pressure on Nazi war crime...   \n",
              "2000-01-05                            Al Nassr (Saudi Arabia)   \n",
              "\n",
              "                        Top23  \\\n",
              "Date                            \n",
              "2000-01-03   Russian roulette   \n",
              "2000-01-04     Jane Ratcliffe   \n",
              "2000-01-05  Ideal Holmes show   \n",
              "\n",
              "                                                        Top24  \\\n",
              "Date                                                            \n",
              "2000-01-03                                           Sold out   \n",
              "2000-01-04  Yet more things you wouldn't know without the ...   \n",
              "2000-01-05               Pinochet leaves hospital after tests   \n",
              "\n",
              "                                   Top25  \n",
              "Date                                      \n",
              "2000-01-03            Recovering a title  \n",
              "2000-01-04  Millennium bug fails to bite  \n",
              "2000-01-05                  Useful links  \n",
              "\n",
              "[3 rows x 26 columns]"
            ],
            "text/html": [
              "<div>\n",
              "<style scoped>\n",
              "    .dataframe tbody tr th:only-of-type {\n",
              "        vertical-align: middle;\n",
              "    }\n",
              "\n",
              "    .dataframe tbody tr th {\n",
              "        vertical-align: top;\n",
              "    }\n",
              "\n",
              "    .dataframe thead th {\n",
              "        text-align: right;\n",
              "    }\n",
              "</style>\n",
              "<table border=\"1\" class=\"dataframe\">\n",
              "  <thead>\n",
              "    <tr style=\"text-align: right;\">\n",
              "      <th></th>\n",
              "      <th>Label</th>\n",
              "      <th>Top1</th>\n",
              "      <th>Top2</th>\n",
              "      <th>Top3</th>\n",
              "      <th>Top4</th>\n",
              "      <th>Top5</th>\n",
              "      <th>Top6</th>\n",
              "      <th>Top7</th>\n",
              "      <th>Top8</th>\n",
              "      <th>Top9</th>\n",
              "      <th>...</th>\n",
              "      <th>Top16</th>\n",
              "      <th>Top17</th>\n",
              "      <th>Top18</th>\n",
              "      <th>Top19</th>\n",
              "      <th>Top20</th>\n",
              "      <th>Top21</th>\n",
              "      <th>Top22</th>\n",
              "      <th>Top23</th>\n",
              "      <th>Top24</th>\n",
              "      <th>Top25</th>\n",
              "    </tr>\n",
              "    <tr>\n",
              "      <th>Date</th>\n",
              "      <th></th>\n",
              "      <th></th>\n",
              "      <th></th>\n",
              "      <th></th>\n",
              "      <th></th>\n",
              "      <th></th>\n",
              "      <th></th>\n",
              "      <th></th>\n",
              "      <th></th>\n",
              "      <th></th>\n",
              "      <th></th>\n",
              "      <th></th>\n",
              "      <th></th>\n",
              "      <th></th>\n",
              "      <th></th>\n",
              "      <th></th>\n",
              "      <th></th>\n",
              "      <th></th>\n",
              "      <th></th>\n",
              "      <th></th>\n",
              "      <th></th>\n",
              "    </tr>\n",
              "  </thead>\n",
              "  <tbody>\n",
              "    <tr>\n",
              "      <th>2000-01-03</th>\n",
              "      <td>0</td>\n",
              "      <td>A 'hindrance to operations': extracts from the...</td>\n",
              "      <td>Scorecard</td>\n",
              "      <td>Hughes' instant hit buoys Blues</td>\n",
              "      <td>Jack gets his skates on at ice-cold Alex</td>\n",
              "      <td>Chaos as Maracana builds up for United</td>\n",
              "      <td>Depleted Leicester prevail as Elliott spoils E...</td>\n",
              "      <td>Hungry Spurs sense rich pickings</td>\n",
              "      <td>Gunners so wide of an easy target</td>\n",
              "      <td>Derby raise a glass to Strupar's debut double</td>\n",
              "      <td>...</td>\n",
              "      <td>Flintoff injury piles on woe for England</td>\n",
              "      <td>Hunters threaten Jospin with new battle of the...</td>\n",
              "      <td>Kohl's successor drawn into scandal</td>\n",
              "      <td>The difference between men and women</td>\n",
              "      <td>Sara Denver, nurse turned solicitor</td>\n",
              "      <td>Diana's landmine crusade put Tories in a panic</td>\n",
              "      <td>Yeltsin's resignation caught opposition flat-f...</td>\n",
              "      <td>Russian roulette</td>\n",
              "      <td>Sold out</td>\n",
              "      <td>Recovering a title</td>\n",
              "    </tr>\n",
              "    <tr>\n",
              "      <th>2000-01-04</th>\n",
              "      <td>0</td>\n",
              "      <td>Scorecard</td>\n",
              "      <td>The best lake scene</td>\n",
              "      <td>Leader: German sleaze inquiry</td>\n",
              "      <td>Cheerio, boyo</td>\n",
              "      <td>The main recommendations</td>\n",
              "      <td>Has Cubie killed fees?</td>\n",
              "      <td>Has Cubie killed fees?</td>\n",
              "      <td>Has Cubie killed fees?</td>\n",
              "      <td>Hopkins 'furious' at Foster's lack of Hannibal...</td>\n",
              "      <td>...</td>\n",
              "      <td>On the critical list</td>\n",
              "      <td>The timing of their lives</td>\n",
              "      <td>Dear doctor</td>\n",
              "      <td>Irish court halts IRA man's extradition to Nor...</td>\n",
              "      <td>Burundi peace initiative fades after rebels re...</td>\n",
              "      <td>PE points the way forward to the ECB</td>\n",
              "      <td>Campaigners keep up pressure on Nazi war crime...</td>\n",
              "      <td>Jane Ratcliffe</td>\n",
              "      <td>Yet more things you wouldn't know without the ...</td>\n",
              "      <td>Millennium bug fails to bite</td>\n",
              "    </tr>\n",
              "    <tr>\n",
              "      <th>2000-01-05</th>\n",
              "      <td>0</td>\n",
              "      <td>Coventry caught on counter by Flo</td>\n",
              "      <td>United's rivals on the road to Rio</td>\n",
              "      <td>Thatcher issues defence before trial by video</td>\n",
              "      <td>Police help Smith lay down the law at Everton</td>\n",
              "      <td>Tale of Trautmann bears two more retellings</td>\n",
              "      <td>England on the rack</td>\n",
              "      <td>Pakistan retaliate with call for video of Walsh</td>\n",
              "      <td>Cullinan continues his Cape monopoly</td>\n",
              "      <td>McGrath puts India out of their misery</td>\n",
              "      <td>...</td>\n",
              "      <td>South Melbourne (Australia)</td>\n",
              "      <td>Necaxa (Mexico)</td>\n",
              "      <td>Real Madrid (Spain)</td>\n",
              "      <td>Raja Casablanca (Morocco)</td>\n",
              "      <td>Corinthians (Brazil)</td>\n",
              "      <td>Tony's pet project</td>\n",
              "      <td>Al Nassr (Saudi Arabia)</td>\n",
              "      <td>Ideal Holmes show</td>\n",
              "      <td>Pinochet leaves hospital after tests</td>\n",
              "      <td>Useful links</td>\n",
              "    </tr>\n",
              "  </tbody>\n",
              "</table>\n",
              "<p>3 rows × 26 columns</p>\n",
              "</div>"
            ]
          },
          "metadata": {
            "tags": []
          },
          "execution_count": 336
        }
      ]
    },
    {
      "cell_type": "markdown",
      "metadata": {
        "id": "PU38r2Y3hRxw",
        "colab_type": "text"
      },
      "source": [
        "Stock Sentiment Breakdown"
      ]
    },
    {
      "cell_type": "code",
      "metadata": {
        "id": "44JVe9jRhK2H",
        "colab_type": "code",
        "outputId": "e764434d-c2dd-40dd-ff93-97afe0977e4d",
        "colab": {
          "base_uri": "https://localhost:8080/",
          "height": 317
        }
      },
      "source": [
        "# Stock Sentiment Breakdown\n",
        "sns.set(style=\"darkgrid\")\n",
        "ax = sns.countplot(x=Rdt['Label'].index, data = Rdt['Label'])\n",
        "ax.set_title(\"Stock Sentiment Breakdown\",fontsize= 22)\n",
        "#print('decrease =',train['Label'].value_counts()[0],'\\n',\"increase =\",train['Label'].value_counts()[1])"
      ],
      "execution_count": 337,
      "outputs": [
        {
          "output_type": "execute_result",
          "data": {
            "text/plain": [
              "Text(0.5, 1.0, 'Stock Sentiment Breakdown')"
            ]
          },
          "metadata": {
            "tags": []
          },
          "execution_count": 337
        },
        {
          "output_type": "display_data",
          "data": {
            "text/plain": [
              "<Figure size 432x288 with 1 Axes>"
            ],
            "image/png": "[encoded data removed]"
          },
          "metadata": {
            "tags": []
          }
        }
      ]
    },
    {
      "cell_type": "code",
      "metadata": {
        "id": "-6xybwSdtp4w",
        "colab_type": "code",
        "colab": {}
      },
      "source": [
        "# Train,Test Split - We will do this before preprocessing for more realistic analysis\n",
        "# Wont use train_test_split() in order to keep consecutive days\n",
        "training_size = int(len(Rdt)*0.75)\n",
        "train,test = Rdt[0:training_size],Rdt[training_size:len(Rdt)]\n",
        "X_train, y_train = train.iloc[:,1:], train.iloc[:,0]\n",
        "X_test, y_test = test.iloc[:,1:], test.iloc[:,0]"
      ],
      "execution_count": 0,
      "outputs": []
    },
    {
      "cell_type": "markdown",
      "metadata": {
        "id": "MAFMItu9IhC5",
        "colab_type": "text"
      },
      "source": [
        "**Preprocessing - Feature Selection**"
      ]
    },
    {
      "cell_type": "code",
      "metadata": {
        "id": "2gPKoKk8SNhb",
        "colab_type": "code",
        "colab": {}
      },
      "source": [
        "# Remove unwanted characters\n",
        "train_data = X_train\n",
        "train_data.replace(\"[^a-zA-Z]\",\" \",regex=True, inplace=True)"
      ],
      "execution_count": 0,
      "outputs": []
    },
    {
      "cell_type": "code",
      "metadata": {
        "id": "3ioP2EYVnpEW",
        "colab_type": "code",
        "outputId": "21718cd5-b033-48c5-e436-d80963e7534c",
        "colab": {
          "base_uri": "https://localhost:8080/",
          "height": 279
        }
      },
      "source": [
        "# Lowercase\n",
        "hds = list(train_data.columns)\n",
        "for i in hds:\n",
        "  train_data[i]=train_data[i].str.lower()\n",
        "train_data.tail(1)"
      ],
      "execution_count": 349,
      "outputs": [
        {
          "output_type": "execute_result",
          "data": {
            "text/plain": [
              "                                                         Top1  \\\n",
              "Date                                                            \n",
              "2012-06-04  eduard khil   trololo guy   dies in st  peters...   \n",
              "\n",
              "                                                         Top2  \\\n",
              "Date                                                            \n",
              "2012-06-04  copyright board of canada recently approved ne...   \n",
              "\n",
              "                                                         Top3  \\\n",
              "Date                                                            \n",
              "2012-06-04  brazilian farmers sue monsanto  five million f...   \n",
              "\n",
              "                                                       Top4  \\\n",
              "Date                                                          \n",
              "2012-06-04  luka magnotta arrested in berlin  german police   \n",
              "\n",
              "                                                         Top5  \\\n",
              "Date                                                            \n",
              "2012-06-04  quebec bangs pots and pans in growing protests...   \n",
              "\n",
              "                                                         Top6  \\\n",
              "Date                                                            \n",
              "2012-06-04  china arrests activists to prevent commemorati...   \n",
              "\n",
              "                                                         Top7  \\\n",
              "Date                                                            \n",
              "2012-06-04  chevron still refusing to pay for ecuador spil...   \n",
              "\n",
              "                                              Top8  \\\n",
              "Date                                                 \n",
              "2012-06-04  us drone strike  kills     in pakistan   \n",
              "\n",
              "                                                       Top9  \\\n",
              "Date                                                          \n",
              "2012-06-04  breivik judge caught playing cards during trial   \n",
              "\n",
              "                                                        Top10  ...  \\\n",
              "Date                                                           ...   \n",
              "2012-06-04  luka magnotta  the canadian body parts suspect...  ...   \n",
              "\n",
              "                                                        Top16  \\\n",
              "Date                                                            \n",
              "2012-06-04  tokyo gas attack suspect arrested after    yea...   \n",
              "\n",
              "                                                        Top17  \\\n",
              "Date                                                            \n",
              "2012-06-04  jerusalem apartment housing migrants firebombe...   \n",
              "\n",
              "                                                        Top18  \\\n",
              "Date                                                            \n",
              "2012-06-04  thousands flee mexico s epicenter of marijuana...   \n",
              "\n",
              "                                                        Top19  \\\n",
              "Date                                                            \n",
              "2012-06-04   no debt repayments  higher salaries and freed...   \n",
              "\n",
              "                                                Top20  \\\n",
              "Date                                                    \n",
              "2012-06-04    killed in attack at mexico rehab center   \n",
              "\n",
              "                                                        Top21  \\\n",
              "Date                                                            \n",
              "2012-06-04     years ago today  the chinese people s liber...   \n",
              "\n",
              "                                                        Top22  \\\n",
              "Date                                                            \n",
              "2012-06-04  solar powered plane attempts first intercontin...   \n",
              "\n",
              "                                                        Top23  \\\n",
              "Date                                                            \n",
              "2012-06-04  many have wondered for years about the exact c...   \n",
              "\n",
              "                                                        Top24  \\\n",
              "Date                                                            \n",
              "2012-06-04  as united states and western nations pull out ...   \n",
              "\n",
              "                                                        Top25  \n",
              "Date                                                           \n",
              "2012-06-04  thousands continue protest in montreal after g...  \n",
              "\n",
              "[1 rows x 25 columns]"
            ],
            "text/html": [
              "<div>\n",
              "<style scoped>\n",
              "    .dataframe tbody tr th:only-of-type {\n",
              "        vertical-align: middle;\n",
              "    }\n",
              "\n",
              "    .dataframe tbody tr th {\n",
              "        vertical-align: top;\n",
              "    }\n",
              "\n",
              "    .dataframe thead th {\n",
              "        text-align: right;\n",
              "    }\n",
              "</style>\n",
              "<table border=\"1\" class=\"dataframe\">\n",
              "  <thead>\n",
              "    <tr style=\"text-align: right;\">\n",
              "      <th></th>\n",
              "      <th>Top1</th>\n",
              "      <th>Top2</th>\n",
              "      <th>Top3</th>\n",
              "      <th>Top4</th>\n",
              "      <th>Top5</th>\n",
              "      <th>Top6</th>\n",
              "      <th>Top7</th>\n",
              "      <th>Top8</th>\n",
              "      <th>Top9</th>\n",
              "      <th>Top10</th>\n",
              "      <th>...</th>\n",
              "      <th>Top16</th>\n",
              "      <th>Top17</th>\n",
              "      <th>Top18</th>\n",
              "      <th>Top19</th>\n",
              "      <th>Top20</th>\n",
              "      <th>Top21</th>\n",
              "      <th>Top22</th>\n",
              "      <th>Top23</th>\n",
              "      <th>Top24</th>\n",
              "      <th>Top25</th>\n",
              "    </tr>\n",
              "    <tr>\n",
              "      <th>Date</th>\n",
              "      <th></th>\n",
              "      <th></th>\n",
              "      <th></th>\n",
              "      <th></th>\n",
              "      <th></th>\n",
              "      <th></th>\n",
              "      <th></th>\n",
              "      <th></th>\n",
              "      <th></th>\n",
              "      <th></th>\n",
              "      <th></th>\n",
              "      <th></th>\n",
              "      <th></th>\n",
              "      <th></th>\n",
              "      <th></th>\n",
              "      <th></th>\n",
              "      <th></th>\n",
              "      <th></th>\n",
              "      <th></th>\n",
              "      <th></th>\n",
              "      <th></th>\n",
              "    </tr>\n",
              "  </thead>\n",
              "  <tbody>\n",
              "    <tr>\n",
              "      <th>2012-06-04</th>\n",
              "      <td>eduard khil   trololo guy   dies in st  peters...</td>\n",
              "      <td>copyright board of canada recently approved ne...</td>\n",
              "      <td>brazilian farmers sue monsanto  five million f...</td>\n",
              "      <td>luka magnotta arrested in berlin  german police</td>\n",
              "      <td>quebec bangs pots and pans in growing protests...</td>\n",
              "      <td>china arrests activists to prevent commemorati...</td>\n",
              "      <td>chevron still refusing to pay for ecuador spil...</td>\n",
              "      <td>us drone strike  kills     in pakistan</td>\n",
              "      <td>breivik judge caught playing cards during trial</td>\n",
              "      <td>luka magnotta  the canadian body parts suspect...</td>\n",
              "      <td>...</td>\n",
              "      <td>tokyo gas attack suspect arrested after    yea...</td>\n",
              "      <td>jerusalem apartment housing migrants firebombe...</td>\n",
              "      <td>thousands flee mexico s epicenter of marijuana...</td>\n",
              "      <td>no debt repayments  higher salaries and freed...</td>\n",
              "      <td>killed in attack at mexico rehab center</td>\n",
              "      <td>years ago today  the chinese people s liber...</td>\n",
              "      <td>solar powered plane attempts first intercontin...</td>\n",
              "      <td>many have wondered for years about the exact c...</td>\n",
              "      <td>as united states and western nations pull out ...</td>\n",
              "      <td>thousands continue protest in montreal after g...</td>\n",
              "    </tr>\n",
              "  </tbody>\n",
              "</table>\n",
              "<p>1 rows × 25 columns</p>\n",
              "</div>"
            ]
          },
          "metadata": {
            "tags": []
          },
          "execution_count": 349
        }
      ]
    },
    {
      "cell_type": "code",
      "metadata": {
        "id": "funA0WdHppkO",
        "colab_type": "code",
        "colab": {
          "base_uri": "https://localhost:8080/",
          "height": 1000
        },
        "outputId": "4c5a44d4-b126-40bc-dd09-5407879f0233"
      },
      "source": [
        "#Tokenizing - Create of lists of  each corpus\n",
        "headlines = []\n",
        "for row in range(0,len(train_data.index)):\n",
        "    headlines.append(list(' '.join(str(x) for x in train_data.iloc[row,]).split()))\n",
        "headlines[0:2]"
      ],
      "execution_count": 353,
      "outputs": [
        {
          "output_type": "execute_result",
          "data": {
            "text/plain": [
              "[['a',\n",
              "  'hindrance',\n",
              "  'to',\n",
              "  'operations',\n",
              "  'extracts',\n",
              "  'from',\n",
              "  'the',\n",
              "  'leaked',\n",
              "  'reports',\n",
              "  'scorecard',\n",
              "  'hughes',\n",
              "  'instant',\n",
              "  'hit',\n",
              "  'buoys',\n",
              "  'blues',\n",
              "  'jack',\n",
              "  'gets',\n",
              "  'his',\n",
              "  'skates',\n",
              "  'on',\n",
              "  'at',\n",
              "  'ice',\n",
              "  'cold',\n",
              "  'alex',\n",
              "  'chaos',\n",
              "  'as',\n",
              "  'maracana',\n",
              "  'builds',\n",
              "  'up',\n",
              "  'for',\n",
              "  'united',\n",
              "  'depleted',\n",
              "  'leicester',\n",
              "  'prevail',\n",
              "  'as',\n",
              "  'elliott',\n",
              "  'spoils',\n",
              "  'everton',\n",
              "  's',\n",
              "  'party',\n",
              "  'hungry',\n",
              "  'spurs',\n",
              "  'sense',\n",
              "  'rich',\n",
              "  'pickings',\n",
              "  'gunners',\n",
              "  'so',\n",
              "  'wide',\n",
              "  'of',\n",
              "  'an',\n",
              "  'easy',\n",
              "  'target',\n",
              "  'derby',\n",
              "  'raise',\n",
              "  'a',\n",
              "  'glass',\n",
              "  'to',\n",
              "  'strupar',\n",
              "  's',\n",
              "  'debut',\n",
              "  'double',\n",
              "  'southgate',\n",
              "  'strikes',\n",
              "  'leeds',\n",
              "  'pay',\n",
              "  'the',\n",
              "  'penalty',\n",
              "  'hammers',\n",
              "  'hand',\n",
              "  'robson',\n",
              "  'a',\n",
              "  'youthful',\n",
              "  'lesson',\n",
              "  'saints',\n",
              "  'party',\n",
              "  'like',\n",
              "  'it',\n",
              "  's',\n",
              "  'wear',\n",
              "  'wolves',\n",
              "  'have',\n",
              "  'turned',\n",
              "  'into',\n",
              "  'lambs',\n",
              "  'stump',\n",
              "  'mike',\n",
              "  'catches',\n",
              "  'testy',\n",
              "  'gough',\n",
              "  's',\n",
              "  'taunt',\n",
              "  'langer',\n",
              "  'escapes',\n",
              "  'to',\n",
              "  'hit',\n",
              "  'flintoff',\n",
              "  'injury',\n",
              "  'piles',\n",
              "  'on',\n",
              "  'woe',\n",
              "  'for',\n",
              "  'england',\n",
              "  'hunters',\n",
              "  'threaten',\n",
              "  'jospin',\n",
              "  'with',\n",
              "  'new',\n",
              "  'battle',\n",
              "  'of',\n",
              "  'the',\n",
              "  'somme',\n",
              "  'kohl',\n",
              "  's',\n",
              "  'successor',\n",
              "  'drawn',\n",
              "  'into',\n",
              "  'scandal',\n",
              "  'the',\n",
              "  'difference',\n",
              "  'between',\n",
              "  'men',\n",
              "  'and',\n",
              "  'women',\n",
              "  'sara',\n",
              "  'denver',\n",
              "  'nurse',\n",
              "  'turned',\n",
              "  'solicitor',\n",
              "  'diana',\n",
              "  's',\n",
              "  'landmine',\n",
              "  'crusade',\n",
              "  'put',\n",
              "  'tories',\n",
              "  'in',\n",
              "  'a',\n",
              "  'panic',\n",
              "  'yeltsin',\n",
              "  's',\n",
              "  'resignation',\n",
              "  'caught',\n",
              "  'opposition',\n",
              "  'flat',\n",
              "  'footed',\n",
              "  'russian',\n",
              "  'roulette',\n",
              "  'sold',\n",
              "  'out',\n",
              "  'recovering',\n",
              "  'a',\n",
              "  'title'],\n",
              " ['scorecard',\n",
              "  'the',\n",
              "  'best',\n",
              "  'lake',\n",
              "  'scene',\n",
              "  'leader',\n",
              "  'german',\n",
              "  'sleaze',\n",
              "  'inquiry',\n",
              "  'cheerio',\n",
              "  'boyo',\n",
              "  'the',\n",
              "  'main',\n",
              "  'recommendations',\n",
              "  'has',\n",
              "  'cubie',\n",
              "  'killed',\n",
              "  'fees',\n",
              "  'has',\n",
              "  'cubie',\n",
              "  'killed',\n",
              "  'fees',\n",
              "  'has',\n",
              "  'cubie',\n",
              "  'killed',\n",
              "  'fees',\n",
              "  'hopkins',\n",
              "  'furious',\n",
              "  'at',\n",
              "  'foster',\n",
              "  's',\n",
              "  'lack',\n",
              "  'of',\n",
              "  'hannibal',\n",
              "  'appetite',\n",
              "  'has',\n",
              "  'cubie',\n",
              "  'killed',\n",
              "  'fees',\n",
              "  'a',\n",
              "  'tale',\n",
              "  'of',\n",
              "  'two',\n",
              "  'tails',\n",
              "  'i',\n",
              "  'say',\n",
              "  'what',\n",
              "  'i',\n",
              "  'like',\n",
              "  'and',\n",
              "  'i',\n",
              "  'like',\n",
              "  'what',\n",
              "  'i',\n",
              "  'say',\n",
              "  'elbows',\n",
              "  'eyes',\n",
              "  'and',\n",
              "  'nipples',\n",
              "  'task',\n",
              "  'force',\n",
              "  'to',\n",
              "  'assess',\n",
              "  'risk',\n",
              "  'of',\n",
              "  'asteroid',\n",
              "  'collision',\n",
              "  'how',\n",
              "  'i',\n",
              "  'found',\n",
              "  'myself',\n",
              "  'at',\n",
              "  'last',\n",
              "  'on',\n",
              "  'the',\n",
              "  'critical',\n",
              "  'list',\n",
              "  'the',\n",
              "  'timing',\n",
              "  'of',\n",
              "  'their',\n",
              "  'lives',\n",
              "  'dear',\n",
              "  'doctor',\n",
              "  'irish',\n",
              "  'court',\n",
              "  'halts',\n",
              "  'ira',\n",
              "  'man',\n",
              "  's',\n",
              "  'extradition',\n",
              "  'to',\n",
              "  'northern',\n",
              "  'ireland',\n",
              "  'burundi',\n",
              "  'peace',\n",
              "  'initiative',\n",
              "  'fades',\n",
              "  'after',\n",
              "  'rebels',\n",
              "  'reject',\n",
              "  'mandela',\n",
              "  'as',\n",
              "  'mediator',\n",
              "  'pe',\n",
              "  'points',\n",
              "  'the',\n",
              "  'way',\n",
              "  'forward',\n",
              "  'to',\n",
              "  'the',\n",
              "  'ecb',\n",
              "  'campaigners',\n",
              "  'keep',\n",
              "  'up',\n",
              "  'pressure',\n",
              "  'on',\n",
              "  'nazi',\n",
              "  'war',\n",
              "  'crimes',\n",
              "  'suspect',\n",
              "  'jane',\n",
              "  'ratcliffe',\n",
              "  'yet',\n",
              "  'more',\n",
              "  'things',\n",
              "  'you',\n",
              "  'wouldn',\n",
              "  't',\n",
              "  'know',\n",
              "  'without',\n",
              "  'the',\n",
              "  'movies',\n",
              "  'millennium',\n",
              "  'bug',\n",
              "  'fails',\n",
              "  'to',\n",
              "  'bite']]"
            ]
          },
          "metadata": {
            "tags": []
          },
          "execution_count": 353
        }
      ]
    },
    {
      "cell_type": "code",
      "metadata": {
        "id": "kuO7h-DMlRJH",
        "colab_type": "code",
        "colab": {}
      },
      "source": [
        "# Remove Stopwords and Stemming\n",
        "\n",
        "# Create stemming object\n",
        "porter = PorterStemmer()\n",
        "# Stopwords object\n",
        "stop_words = set(stopwords.words('english')) \n",
        "\n",
        "cl_headline = []\n",
        "for corp in headlines:\n",
        "    temp = []\n",
        "    for word in corp:\n",
        "        if word not in stop_words:\n",
        "            #Perform Stemming\n",
        "          temp.append(porter.stem(word))\n",
        "    cl_headline.append(temp)"
      ],
      "execution_count": 0,
      "outputs": []
    },
    {
      "cell_type": "code",
      "metadata": {
        "id": "VyfhxBIpMuNV",
        "colab_type": "code",
        "colab": {
          "base_uri": "https://localhost:8080/",
          "height": 88
        },
        "outputId": "13d9ec50-2eb5-4cbf-82f9-efd1591dd670"
      },
      "source": [
        "# Flatten the list\n",
        "flat_list = [' '.join(sublist) for sublist in cl_headline]\n",
        "flat_list[0:3]"
      ],
      "execution_count": 357,
      "outputs": [
        {
          "output_type": "execute_result",
          "data": {
            "text/plain": [
              "['hindranc oper extract leak report scorecard hugh instant hit buoy blue jack get skate ice cold alex chao maracana build unit deplet leicest prevail elliott spoil everton parti hungri spur sens rich pick gunner wide easi target derbi rais glass strupar debut doubl southgat strike leed pay penalti hammer hand robson youth lesson saint parti like wear wolv turn lamb stump mike catch testi gough taunt langer escap hit flintoff injuri pile woe england hunter threaten jospin new battl somm kohl successor drawn scandal differ men women sara denver nurs turn solicitor diana landmin crusad put tori panic yeltsin resign caught opposit flat foot russian roulett sold recov titl',\n",
              " 'scorecard best lake scene leader german sleaz inquiri cheerio boyo main recommend cubi kill fee cubi kill fee cubi kill fee hopkin furiou foster lack hannib appetit cubi kill fee tale two tail say like like say elbow eye nippl task forc assess risk asteroid collis found last critic list time live dear doctor irish court halt ira man extradit northern ireland burundi peac initi fade rebel reject mandela mediat pe point way forward ecb campaign keep pressur nazi war crime suspect jane ratcliff yet thing know without movi millennium bug fail bite',\n",
              " 'coventri caught counter flo unit rival road rio thatcher issu defenc trial video polic help smith lay law everton tale trautmann bear two retel england rack pakistan retali call video walsh cullinan continu cape monopoli mcgrath put india miseri blair witch bandwagon roll pele turn heat ferguson parti divid kohl slush fund scandal manchest unit england women record south pole walk vasco da gama brazil south melbourn australia necaxa mexico real madrid spain raja casablanca morocco corinthian brazil toni pet project al nassr saudi arabia ideal holm show pinochet leav hospit test use link']"
            ]
          },
          "metadata": {
            "tags": []
          },
          "execution_count": 357
        }
      ]
    },
    {
      "cell_type": "markdown",
      "metadata": {
        "id": "OlPh3SzFNxbk",
        "colab_type": "text"
      },
      "source": [
        "**The following 3 Classification Models Will be using Bag of Words technique**"
      ]
    },
    {
      "cell_type": "code",
      "metadata": {
        "id": "PORRwuvQ7Q9b",
        "colab_type": "code",
        "colab": {}
      },
      "source": [
        "# Vectorize the text data-BOW\n",
        "countvector1 = CountVectorizer(max_features = 5000,ngram_range=(2,2)) #unigrams and bigrams\n",
        "\n",
        "# Convert a collection of text documents to a matrix of token counts\n",
        "train_words = countvector1.fit_transform(flat_list)\n",
        "\n",
        "# #More Feature selection - SelectPercentile select top 10%\n",
        "# selector = SelectPercentile(score_func= f_classif , percentile= 10)\n",
        "# #calculate the selector and transform\n",
        "# train_words = selector.fit_transform(train_words,y_train)"
      ],
      "execution_count": 0,
      "outputs": []
    },
    {
      "cell_type": "markdown",
      "metadata": {
        "id": "kizBw1gqaedP",
        "colab_type": "text"
      },
      "source": [
        "Random Forrest"
      ]
    },
    {
      "cell_type": "code",
      "metadata": {
        "id": "wMf5N8zcETO4",
        "colab_type": "code",
        "outputId": "c78aa96e-bdd3-4de9-c4aa-d452633a2ab3",
        "colab": {
          "base_uri": "https://localhost:8080/",
          "height": 136
        }
      },
      "source": [
        "# Initilalize the RFC\n",
        "randomclassifier = RandomForestClassifier(n_estimators=500)\n",
        "\n",
        "## Fit the RFC on the Training Data\n",
        "randomclassifier.fit(train_words,y_train) "
      ],
      "execution_count": 469,
      "outputs": [
        {
          "output_type": "execute_result",
          "data": {
            "text/plain": [
              "RandomForestClassifier(bootstrap=True, class_weight=None, criterion='gini',\n",
              "                       max_depth=None, max_features='auto', max_leaf_nodes=None,\n",
              "                       min_impurity_decrease=0.0, min_impurity_split=None,\n",
              "                       min_samples_leaf=1, min_samples_split=2,\n",
              "                       min_weight_fraction_leaf=0.0, n_estimators=500,\n",
              "                       n_jobs=None, oob_score=False, random_state=None,\n",
              "                       verbose=0, warm_start=False)"
            ]
          },
          "metadata": {
            "tags": []
          },
          "execution_count": 469
        }
      ]
    },
    {
      "cell_type": "code",
      "metadata": {
        "id": "tY_EaK8aEWcT",
        "colab_type": "code",
        "colab": {}
      },
      "source": [
        "## Vectorize the test Dataset\n",
        "test_transform= []\n",
        "for row in range(0,len(test)):\n",
        "  test_transform.append(' '.join(str(x) for x in X_test.iloc[row,1:26]))\n",
        "test_dataset = countvector1.transform(test_transform)\n",
        "\n",
        "#More Feature selection - SelectPercentile Dim Reduction with F-test\n",
        "#test_dataset = selector.transform(test_dataset)\n",
        "\n",
        "#Predict the Response\n",
        "y_predict = randomclassifier.predict(test_dataset)"
      ],
      "execution_count": 0,
      "outputs": []
    },
    {
      "cell_type": "code",
      "metadata": {
        "id": "7FGDL79CNqVz",
        "colab_type": "code",
        "colab": {
          "base_uri": "https://localhost:8080/",
          "height": 620
        },
        "outputId": "54777e86-69d3-468f-b7b0-1847afec8e87"
      },
      "source": [
        "# Confusion Matrix\n",
        "data = confusion_matrix(y_test,y_predict)\n",
        "df_cm = pd.DataFrame(data, columns=np.unique(y_test), index = np.unique(y_test))\n",
        "df_cm.index.name = 'Actual'\n",
        "df_cm.columns.name = 'Predicted'\n",
        "plt.figure(figsize = (10,7))\n",
        "sns.set(font_scale=1.4)#for label size\n",
        "sns.heatmap(df_cm, cmap=\"Blues\", annot=True,fmt='g')\n",
        "\n",
        "score=accuracy_score(y_test,y_predict)\n",
        "print('accuracy =',score)\n",
        "\n",
        "report=classification_report(y_test,y_predict)\n",
        "print(report)"
      ],
      "execution_count": 471,
      "outputs": [
        {
          "output_type": "stream",
          "text": [
            "accuracy = 0.5077972709551657\n",
            "              precision    recall  f1-score   support\n",
            "\n",
            "           0       0.40      0.12      0.18       476\n",
            "           1       0.53      0.85      0.65       550\n",
            "\n",
            "    accuracy                           0.51      1026\n",
            "   macro avg       0.46      0.48      0.41      1026\n",
            "weighted avg       0.47      0.51      0.43      1026\n",
            "\n"
          ],
          "name": "stdout"
        },
        {
          "output_type": "display_data",
          "data": {
            "text/plain": [
              "<Figure size 720x504 with 2 Axes>"
            ],
            "image/png": "[encoded data removed]"
          },
          "metadata": {
            "tags": []
          }
        }
      ]
    },
    {
      "cell_type": "code",
      "metadata": {
        "id": "ltjHvuYVDAGx",
        "colab_type": "code",
        "colab": {
          "base_uri": "https://localhost:8080/",
          "height": 323
        },
        "outputId": "c75b99db-c25a-4067-9236-2298bbbf894b"
      },
      "source": [
        "# RF Examine how Accuracy adjust with different n_estimators parameters\n",
        "scores =[]\n",
        "for k in range(1, 2001, 100):\n",
        "    rfc = RandomForestClassifier(n_estimators=k)\n",
        "    #rfc.fit(train_words,train['Label'])\n",
        "    rfc.fit(train_words,y_train)\n",
        "    y_predict = rfc.predict(test_dataset)\n",
        "    #scores.append(accuracy_score(test['Label'], y_predict))\n",
        "    scores.append(accuracy_score(y_test, y_predict))\n",
        "# plot the relationship between K and testing accuracy\n",
        "plt.title(\"Accuracy of Random Forest with adjusting n_estimators\")\n",
        "plt.plot(range(1, 2001, 100), scores)\n",
        "plt.xlabel('Value of n_estimators for Random Forest Classifier')\n",
        "plt.ylabel('Testing Accuracy')"
      ],
      "execution_count": 472,
      "outputs": [
        {
          "output_type": "execute_result",
          "data": {
            "text/plain": [
              "Text(0, 0.5, 'Testing Accuracy')"
            ]
          },
          "metadata": {
            "tags": []
          },
          "execution_count": 472
        },
        {
          "output_type": "display_data",
          "data": {
            "text/plain": [
              "<Figure size 432x288 with 1 Axes>"
            ],
            "image/png": "[encoded data removed]"
          },
          "metadata": {
            "tags": []
          }
        }
      ]
    },
    {
      "cell_type": "markdown",
      "metadata": {
        "id": "7pf6zfCZ4aAH",
        "colab_type": "text"
      },
      "source": [
        "Naiive Bayes "
      ]
    },
    {
      "cell_type": "code",
      "metadata": {
        "id": "-cWviCf04SpR",
        "colab_type": "code",
        "colab": {}
      },
      "source": [
        "#Initialize the MultinomialNB model\n",
        "NBclassifier = MultinomialNB()\n",
        "#Fit the model\n",
        "NBclassifier.fit(train_words.toarray(),y_train)\n",
        "\n",
        "# Predict the reponse\n",
        "y_pred_NB = NBclassifier.predict(test_dataset.toarray())\n",
        "\n",
        "# 10-Fold Cross validation\n",
        "# print('Accuracy', np.mean(cross_val_score(NBclassifier,train_words.toarray(),train['Label'],cv = 10, scoring='roc_auc')))\n"
      ],
      "execution_count": 0,
      "outputs": []
    },
    {
      "cell_type": "code",
      "metadata": {
        "id": "oyTerRxqZFKZ",
        "colab_type": "code",
        "outputId": "5bb3eb0e-3340-40aa-c04f-9a0623978939",
        "colab": {
          "base_uri": "https://localhost:8080/",
          "height": 620
        }
      },
      "source": [
        "# Confusion Matrix\n",
        "data = confusion_matrix(y_test,y_pred_NB)\n",
        "df_cm = pd.DataFrame(data, columns=np.unique(y_test), index = np.unique(y_test))\n",
        "df_cm.index.name = 'Actual'\n",
        "df_cm.columns.name = 'Predicted'\n",
        "plt.figure(figsize = (10,7))\n",
        "sns.set(font_scale=1.4)#for label size\n",
        "sns.heatmap(df_cm, cmap=\"Blues\", annot=True,fmt='g')\n",
        "\n",
        "score=accuracy_score(y_test,y_pred_NB)\n",
        "print('Accuracy ', score)\n",
        "report=classification_report(y_test,y_pred_NB)\n",
        "print(report)\n"
      ],
      "execution_count": 408,
      "outputs": [
        {
          "output_type": "stream",
          "text": [
            "Accuracy  0.5155945419103314\n",
            "              precision    recall  f1-score   support\n",
            "\n",
            "           0       0.48      0.45      0.46       476\n",
            "           1       0.55      0.57      0.56       550\n",
            "\n",
            "    accuracy                           0.52      1026\n",
            "   macro avg       0.51      0.51      0.51      1026\n",
            "weighted avg       0.51      0.52      0.51      1026\n",
            "\n"
          ],
          "name": "stdout"
        },
        {
          "output_type": "display_data",
          "data": {
            "text/plain": [
              "<Figure size 720x504 with 2 Axes>"
            ],
            "image/png": "[encoded data removed]"
          },
          "metadata": {
            "tags": []
          }
        }
      ]
    },
    {
      "cell_type": "markdown",
      "metadata": {
        "id": "9uHZdA10uICg",
        "colab_type": "text"
      },
      "source": [
        "Decision Tree"
      ]
    },
    {
      "cell_type": "code",
      "metadata": {
        "id": "4AgTKyRPtfs_",
        "colab_type": "code",
        "colab": {}
      },
      "source": [
        "from sklearn.tree import DecisionTreeClassifier\n",
        "classifier = DecisionTreeClassifier(criterion = 'entropy', random_state = 0)\n",
        "\n",
        "# Train Model\n",
        "classifier.fit(train_words, y_train)\n",
        "\n",
        "# Predict the response\n",
        "y_pred_DT = classifier.predict(test_dataset)"
      ],
      "execution_count": 0,
      "outputs": []
    },
    {
      "cell_type": "code",
      "metadata": {
        "id": "sqxwcYuCuKKC",
        "colab_type": "code",
        "outputId": "f0cb09a1-6e37-4732-e8b8-95f6dabac116",
        "colab": {
          "base_uri": "https://localhost:8080/",
          "height": 626
        }
      },
      "source": [
        "data = confusion_matrix(y_test,y_pred_DT)\n",
        "df_cm = pd.DataFrame(data, columns=np.unique(y_test), index = np.unique(y_test))\n",
        "df_cm.index.name = 'Actual'\n",
        "df_cm.columns.name = 'Predicted'\n",
        "plt.figure(figsize = (10,7))\n",
        "sns.set(font_scale=1.4)#for label size\n",
        "sns.heatmap(df_cm, cmap=\"Blues\", annot=True,fmt='g')\n",
        "\n",
        "score=accuracy_score(y_test,y_pred_DT)\n",
        "print('Accuracy ', score)\n",
        "report=classification_report(y_test,y_pred_DT)\n",
        "print(report)"
      ],
      "execution_count": 410,
      "outputs": [
        {
          "output_type": "stream",
          "text": [
            "Accuracy  0.49317738791423\n",
            "              precision    recall  f1-score   support\n",
            "\n",
            "           0       0.46      0.54      0.50       476\n",
            "           1       0.53      0.45      0.49       550\n",
            "\n",
            "    accuracy                           0.49      1026\n",
            "   macro avg       0.50      0.50      0.49      1026\n",
            "weighted avg       0.50      0.49      0.49      1026\n",
            "\n"
          ],
          "name": "stdout"
        },
        {
          "output_type": "display_data",
          "data": {
            "text/plain": [
              "<Figure size 720x504 with 2 Axes>"
            ],
            "image/png": "[encoded data removed]"
          },
          "metadata": {
            "tags": []
          }
        }
      ]
    },
    {
      "cell_type": "markdown",
      "metadata": {
        "id": "7OJ5M_7Q9Nf8",
        "colab_type": "text"
      },
      "source": [
        "Conclusion- All models(BOWs) are basically at 50% accuracy, so me conclude the Reddit News Data is not a proper indicatior of stock price increases"
      ]
    },
    {
      "cell_type": "markdown",
      "metadata": {
        "id": "fKe6nmVzOAVL",
        "colab_type": "text"
      },
      "source": [
        "**The following 3 Classification Models Will be using TF-IDF technique**"
      ]
    },
    {
      "cell_type": "code",
      "metadata": {
        "id": "sXfnkUscN0U8",
        "colab_type": "code",
        "colab": {}
      },
      "source": [
        "from sklearn.feature_extraction.text import TfidfVectorizer\n",
        "\n",
        "# Initialize the TFIDF Vectorizer\n",
        "cv = TfidfVectorizer(max_features = 5000, ngram_range=(2,2))\n",
        "# Vectorize the training data\n",
        "X = cv.fit_transform(flat_list)\n",
        "\n",
        "#Transforming the Train Data and SelectPercentile Dim Reduction\n",
        "#selector = SelectPercentile(score_func= f_classif , percentile= 10)\n",
        "# X_Red = selector.fit_transform(X,y_train)"
      ],
      "execution_count": 0,
      "outputs": []
    },
    {
      "cell_type": "markdown",
      "metadata": {
        "id": "XSBzoJfzLL3Z",
        "colab_type": "text"
      },
      "source": [
        "Random Forest Cl"
      ]
    },
    {
      "cell_type": "code",
      "metadata": {
        "id": "iHKnZ9X9Rghi",
        "colab_type": "code",
        "outputId": "cac996f0-b459-4071-8992-bae022e4944a",
        "colab": {
          "base_uri": "https://localhost:8080/",
          "height": 136
        }
      },
      "source": [
        "# Random Forest\n",
        "randomclassifier = RandomForestClassifier(n_estimators=500,criterion='entropy')\n",
        "\n",
        "randomclassifier.fit(X,y_train)"
      ],
      "execution_count": 453,
      "outputs": [
        {
          "output_type": "execute_result",
          "data": {
            "text/plain": [
              "RandomForestClassifier(bootstrap=True, class_weight=None, criterion='entropy',\n",
              "                       max_depth=None, max_features='auto', max_leaf_nodes=None,\n",
              "                       min_impurity_decrease=0.0, min_impurity_split=None,\n",
              "                       min_samples_leaf=1, min_samples_split=2,\n",
              "                       min_weight_fraction_leaf=0.0, n_estimators=500,\n",
              "                       n_jobs=None, oob_score=False, random_state=None,\n",
              "                       verbose=0, warm_start=False)"
            ]
          },
          "metadata": {
            "tags": []
          },
          "execution_count": 453
        }
      ]
    },
    {
      "cell_type": "code",
      "metadata": {
        "id": "FcfPi4z4Fw9y",
        "colab_type": "code",
        "colab": {}
      },
      "source": [
        "## Vectorize the test set      # TF- IGF      -------> Make a Class\n",
        "test_transform= []\n",
        "for row in range(0,len(test)):\n",
        "    test_transform.append(' '.join(str(x) for x in X_test.iloc[row,1:26]))\n",
        "test_TFIGF = cv.transform(test_transform)\n",
        "\n",
        "# #Transforming the Train Data and SelectPercentile Dim Reduction\n",
        "# test_TFIGF = selector.transform(test_TFIGF)\n",
        "\n",
        "#Predict the sentiment\n",
        "y_pred = randomclassifier.predict(test_TFIGF)"
      ],
      "execution_count": 0,
      "outputs": []
    },
    {
      "cell_type": "code",
      "metadata": {
        "id": "wYJAoH_OEvsu",
        "colab_type": "code",
        "outputId": "7ab4305a-6687-4a3b-c3fb-a82b550084ae",
        "colab": {
          "base_uri": "https://localhost:8080/",
          "height": 620
        }
      },
      "source": [
        "#RF Confusion Matrix\n",
        "data = confusion_matrix(y_test,y_pred)\n",
        "df_cm = pd.DataFrame(data, columns=np.unique(y_test), index = np.unique(y_test))\n",
        "df_cm.index.name = 'Actual'\n",
        "df_cm.columns.name = 'Predicted'\n",
        "plt.figure(figsize = (10,7))\n",
        "sns.set(font_scale=1.4)#for label size\n",
        "sns.heatmap(df_cm, cmap=\"Blues\", annot=True,fmt='g')\n",
        "\n",
        "score=accuracy_score(y_test,y_pred)\n",
        "print('accuracy =',score)\n",
        "\n",
        "report=classification_report(y_test, y_pred)\n",
        "print(report)"
      ],
      "execution_count": 455,
      "outputs": [
        {
          "output_type": "stream",
          "text": [
            "accuracy = 0.5077972709551657\n",
            "              precision    recall  f1-score   support\n",
            "\n",
            "           0       0.44      0.24      0.31       476\n",
            "           1       0.53      0.74      0.62       550\n",
            "\n",
            "    accuracy                           0.51      1026\n",
            "   macro avg       0.49      0.49      0.46      1026\n",
            "weighted avg       0.49      0.51      0.48      1026\n",
            "\n"
          ],
          "name": "stdout"
        },
        {
          "output_type": "display_data",
          "data": {
            "text/plain": [
              "<Figure size 720x504 with 2 Axes>"
            ],
            "image/png": "[encoded data removed]"
          },
          "metadata": {
            "tags": []
          }
        }
      ]
    },
    {
      "cell_type": "markdown",
      "metadata": {
        "id": "hCVjZWf1LXUa",
        "colab_type": "text"
      },
      "source": [
        "Gaussian Naive Bayes"
      ]
    },
    {
      "cell_type": "code",
      "metadata": {
        "id": "HOg1Y-RLLW0v",
        "colab_type": "code",
        "colab": {}
      },
      "source": [
        "#Initialize the MultinomialNB model\n",
        "NBclassifier = GaussianNB()\n",
        "#Fit the model\n",
        "NBclassifier.fit(X.toarray(),y_train)\n",
        "\n",
        "# Predict the reponse\n",
        "y_pred_NB = NBclassifier.predict(test_TFIGF.toarray())\n",
        "\n",
        "# 10-Fold Cross validation\n",
        "# print('Accuracy', np.mean(cross_val_score(NBclassifier,train_words.toarray(),train['Label'],cv = 10, scoring='roc_auc')))\n"
      ],
      "execution_count": 0,
      "outputs": []
    },
    {
      "cell_type": "code",
      "metadata": {
        "id": "mNWe8wTNWXDK",
        "colab_type": "code",
        "colab": {
          "base_uri": "https://localhost:8080/",
          "height": 620
        },
        "outputId": "80ce91d5-85c4-4bee-cbc2-614b19a36480"
      },
      "source": [
        "#NB Confusion Matrix\n",
        "data = confusion_matrix(y_test,y_pred_NB)\n",
        "df_cm = pd.DataFrame(data, columns=np.unique(y_test), index = np.unique(y_test))\n",
        "df_cm.index.name = 'Actual'\n",
        "df_cm.columns.name = 'Predicted'\n",
        "plt.figure(figsize = (10,7))\n",
        "sns.set(font_scale=1.4)#for label size\n",
        "sns.heatmap(df_cm, cmap=\"Blues\", annot=True,fmt='g')\n",
        "\n",
        "score=accuracy_score(y_test,y_pred_NB)\n",
        "print('accuracy =',score)\n",
        "\n",
        "report=classification_report(y_test, y_pred_NB)\n",
        "print(report)"
      ],
      "execution_count": 459,
      "outputs": [
        {
          "output_type": "stream",
          "text": [
            "accuracy = 0.5058479532163743\n",
            "              precision    recall  f1-score   support\n",
            "\n",
            "           0       0.47      0.53      0.50       476\n",
            "           1       0.54      0.48      0.51       550\n",
            "\n",
            "    accuracy                           0.51      1026\n",
            "   macro avg       0.51      0.51      0.51      1026\n",
            "weighted avg       0.51      0.51      0.51      1026\n",
            "\n"
          ],
          "name": "stdout"
        },
        {
          "output_type": "display_data",
          "data": {
            "text/plain": [
              "<Figure size 720x504 with 2 Axes>"
            ],
            "image/png": "[encoded data removed]"
          },
          "metadata": {
            "tags": []
          }
        }
      ]
    },
    {
      "cell_type": "markdown",
      "metadata": {
        "id": "sIlk61jiYqY9",
        "colab_type": "text"
      },
      "source": [
        "Decision Tree"
      ]
    },
    {
      "cell_type": "code",
      "metadata": {
        "id": "kZUmFVfVYlqC",
        "colab_type": "code",
        "colab": {}
      },
      "source": [
        "from sklearn.tree import DecisionTreeClassifier\n",
        "classifier = DecisionTreeClassifier(criterion = 'entropy', random_state = 0)\n",
        "\n",
        "# Train Model\n",
        "classifier.fit(X,y_train)\n",
        "\n",
        "# Predict the response\n",
        "y_pred_DT = classifier.predict(test_TFIGF)"
      ],
      "execution_count": 0,
      "outputs": []
    },
    {
      "cell_type": "code",
      "metadata": {
        "id": "GSgoxDQzZE9t",
        "colab_type": "code",
        "colab": {
          "base_uri": "https://localhost:8080/",
          "height": 620
        },
        "outputId": "f18db389-fb0f-4c44-8e31-1befa1587222"
      },
      "source": [
        "#DT Confusion Matrix\n",
        "data = confusion_matrix(y_test,y_pred_DT)\n",
        "df_cm = pd.DataFrame(data, columns=np.unique(y_test), index = np.unique(y_test))\n",
        "df_cm.index.name = 'Actual'\n",
        "df_cm.columns.name = 'Predicted'\n",
        "plt.figure(figsize = (10,7))\n",
        "sns.set(font_scale=1.4)#for label size\n",
        "sns.heatmap(df_cm, cmap=\"Blues\", annot=True,fmt='g')\n",
        "\n",
        "score=accuracy_score(y_test,y_pred_DT)\n",
        "print('accuracy =',score)\n",
        "\n",
        "report=classification_report(y_test, y_pred_DT)\n",
        "print(report)"
      ],
      "execution_count": 461,
      "outputs": [
        {
          "output_type": "stream",
          "text": [
            "accuracy = 0.5311890838206628\n",
            "              precision    recall  f1-score   support\n",
            "\n",
            "           0       0.49      0.37      0.42       476\n",
            "           1       0.55      0.67      0.61       550\n",
            "\n",
            "    accuracy                           0.53      1026\n",
            "   macro avg       0.52      0.52      0.51      1026\n",
            "weighted avg       0.52      0.53      0.52      1026\n",
            "\n"
          ],
          "name": "stdout"
        },
        {
          "output_type": "display_data",
          "data": {
            "text/plain": [
              "<Figure size 720x504 with 2 Axes>"
            ],
            "image/png": "[encoded data removed]"
          },
          "metadata": {
            "tags": []
          }
        }
      ]
    },
    {
      "cell_type": "markdown",
      "metadata": {
        "id": "piW6pzw1ZjCR",
        "colab_type": "text"
      },
      "source": [
        "Conclusion- All models(TF-IDF) are basically at 50% accuracy, so we conclude the Reddit News Data is not a proper indicatior of stock price increases"
      ]
    },
    {
      "cell_type": "markdown",
      "metadata": {
        "id": "9uAPifH03aTE",
        "colab_type": "text"
      },
      "source": [
        "Examine - ROC CURVES for TF-IDK(Doesnt matter if BOW,both results are poor)"
      ]
    },
    {
      "cell_type": "code",
      "metadata": {
        "id": "5JSEjc623ZQM",
        "colab_type": "code",
        "outputId": "0eb6e819-b387-4e6f-da20-42e71dd7aa65",
        "colab": {
          "base_uri": "https://localhost:8080/",
          "height": 356
        }
      },
      "source": [
        "from sklearn.model_selection import train_test_split\n",
        "from sklearn.preprocessing import label_binarize\n",
        "from sklearn.multiclass import OneVsRestClassifier\n",
        "from scipy import interp\n",
        "from sklearn.metrics import roc_auc_score\n",
        "\n",
        "\n",
        "# Prediction Probabilities\n",
        "y_predict = randomclassifier.predict_proba(test_TFIGF) #RF\n",
        "y_pred_NB = NBclassifier.predict_proba(test_TFIGF.toarray()) #NB\n",
        "y_pred_DT = classifier.predict_proba(test_TFIGF)\n",
        "\n",
        "# Keep The Prob of Stock Price Increase\n",
        "rf_probs = y_predict[:, 1]\n",
        "nb_probs = y_pred_NB[:, 1]\n",
        "dt_probs = y_pred_DT[:, 1]\n",
        "\n",
        "from sklearn.metrics import roc_curve, roc_auc_score\n",
        "\n",
        "# Calc AUROC, is the area under the ROC curve\n",
        "                        #test['Label']\n",
        "rf_auc = roc_auc_score(y_test, rf_probs)\n",
        "nb_auc = roc_auc_score(y_test, nb_probs)\n",
        "dt_auc = roc_auc_score(y_test, dt_probs)\n",
        "print('Random Forest: AUROC = %.3f' % (rf_auc))\n",
        "print('Naive Bayes: AUROC = %.3f' % (nb_auc))\n",
        "print('Naive Bayes: AUROC = %.3f' % (dt_auc))\n",
        "\n",
        "\n",
        "# False Positive and True Positive Rates\n",
        "rf_fpr, rf_tpr, _ = roc_curve(y_test, rf_probs)\n",
        "nb_fpr, nb_tpr, _ = roc_curve(y_test, nb_probs)\n",
        "dt_fpr, dt_tpr, _ = roc_curve(y_test, dt_probs)\n",
        "\n",
        "# Plot ROC Curve\n",
        "plt.plot(rf_fpr, rf_tpr, marker='.', label='Random Forest (AUROC = %0.3f)' % rf_auc)\n",
        "plt.plot(nb_fpr, nb_tpr, marker='.', label='Naive Bayes (AUROC = %0.3f)' % nb_auc)\n",
        "plt.plot(dt_fpr, dt_tpr, marker='.', label='Decision Tree (AUROC = %0.3f)' % dt_auc)\n",
        "\n",
        "\n",
        "\n",
        "# Title\n",
        "plt.title('ROC Plot')\n",
        "# Axis labels\n",
        "plt.xlabel('False Positive Rate')\n",
        "plt.ylabel('True Positive Rate')\n",
        "# Show legend\n",
        "plt.legend() # \n",
        "# Show plot\n",
        "plt.show()"
      ],
      "execution_count": 463,
      "outputs": [
        {
          "output_type": "stream",
          "text": [
            "Random Forest: AUROC = 0.475\n",
            "Naive Bayes: AUROC = 0.506\n",
            "Naive Bayes: AUROC = 0.520\n"
          ],
          "name": "stdout"
        },
        {
          "output_type": "display_data",
          "data": {
            "text/plain": [
              "<Figure size 432x288 with 1 Axes>"
            ],
            "image/png": "[encoded data removed]"
          },
          "metadata": {
            "tags": []
          }
        }
      ]
    },
    {
      "cell_type": "markdown",
      "metadata": {
        "id": "niH1AzhmpsK1",
        "colab_type": "text"
      },
      "source": [
        "Addiotional Parameter Optimization-Gridsearch to Find the best Parameters for Random Forest(TF_IDF)"
      ]
    },
    {
      "cell_type": "code",
      "metadata": {
        "id": "9BIonGwCokUc",
        "colab_type": "code",
        "outputId": "88069d01-83a3-4f34-87fd-cc03e962d18e",
        "colab": {
          "base_uri": "https://localhost:8080/",
          "height": 71
        }
      },
      "source": [
        "from sklearn.model_selection import RandomizedSearchCV\n",
        "from scipy.stats import randint\n",
        "\n",
        "# Initialize the classifier\n",
        "rfc = RandomForestClassifier(random_state = 42)\n",
        "\n",
        "# Parameters of Choice\n",
        "\n",
        "param_grid = { 'max_depth':[3,5,10,None],\n",
        "               'n_estimators': range(50,700,50),\n",
        "                'max_features':['auto', 'sqrt', 'log2'],\n",
        "               'criterion': ['gini', 'entropy'],\n",
        "               'min_samples_leaf': range(1,4),\n",
        "                'oob_score' : [True, False]\n",
        "             }\n",
        "  \n",
        "# Initizalize the Ramdom Search CV\n",
        "CV_rfc = RandomizedSearchCV(estimator=rfc, param_distributions=param_grid, scoring = 'accuracy')\n",
        "\n",
        "# Fit the data\n",
        "grid_search = CV_rfc.fit(X,y_train) "
      ],
      "execution_count": 464,
      "outputs": [
        {
          "output_type": "stream",
          "text": [
            "C:\\Users\\Rae-Djamaal\\Anaconda3\\lib\\site-packages\\sklearn\\model_selection\\_split.py:1978: FutureWarning: The default value of cv will change from 3 to 5 in version 0.22. Specify it explicitly to silence this warning.\n",
            "  warnings.warn(CV_WARNING, FutureWarning)\n"
          ],
          "name": "stderr"
        }
      ]
    },
    {
      "cell_type": "code",
      "metadata": {
        "id": "CdJEePeEH9XX",
        "colab_type": "code",
        "outputId": "c6f37436-74f6-4e44-cf12-03f3529d130f",
        "colab": {
          "base_uri": "https://localhost:8080/",
          "height": 68
        }
      },
      "source": [
        "accuracy = grid_search.best_score_\n",
        "print('Highest Accuracy =', accuracy)\n",
        "print('Best Parameters\\n',grid_search.best_params_)"
      ],
      "execution_count": 466,
      "outputs": [
        {
          "output_type": "stream",
          "text": [
            "Highest Accuracy = 0.5258536585365854\n",
            "Best Parameters\n",
            " {'oob_score': True, 'n_estimators': 100, 'min_samples_leaf': 3, 'max_features': 'log2', 'max_depth': 10, 'criterion': 'entropy'}\n"
          ],
          "name": "stdout"
        }
      ]
    },
    {
      "cell_type": "markdown",
      "metadata": {
        "id": "mizRAr5ycp-4",
        "colab_type": "text"
      },
      "source": [
        "52% Accuracy Confirms Our belief that Reddit News is not a good indicator of stock price increase"
      ]
    }
  ]
}